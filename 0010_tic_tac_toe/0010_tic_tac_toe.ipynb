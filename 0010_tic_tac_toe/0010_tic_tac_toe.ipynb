{
 "cells": [
  {
   "cell_type": "markdown",
   "metadata": {},
   "source": [
    "# Task\n",
    "Создать и обучить сетку распознаванию крестиков или ноликов.\n",
    "\n",
    "# Installation\n",
    "\n",
    "**Особенности на MacOs M1:** \n",
    "1. На MacOs c M1 нужно установить пакет tenserflow-macos вместо стандартного tenserflow\n",
    "1. Почему-то падает с ошибкой на методе load_img из pillow. Нужно pillow деинсталить и установить заново, перезапустив Jupter Kernel."
   ]
  },
  {
   "cell_type": "code",
   "execution_count": 2,
   "metadata": {},
   "outputs": [],
   "source": [
    "# Подключение класса для создания нейронной сети прямого распространения\n",
    "from tensorflow.keras.models import Sequential \n",
    "# Подключение класса для создания полносвязного слоя\n",
    "from tensorflow.keras.layers import Dense \n",
    "# Подключение оптимизатора\n",
    "from tensorflow.keras.optimizers import Adam \n",
    "# Подключение утилит для to_categorical\n",
    "from tensorflow.keras import utils \n",
    "# Подключение библиотеки для загрузки изображений\n",
    "from tensorflow.keras.preprocessing import image \n",
    "\n",
    "import numpy as np\n",
    "import os\n",
    "\n",
    "# Подключение библиотек для отрисовки изображений\n",
    "import matplotlib.pyplot as plt \n",
    "from PIL import Image \n",
    "# Вывод изображения в ноутбуке, а не в консоли или файле\n",
    "%matplotlib inline "
   ]
  },
  {
   "cell_type": "code",
   "execution_count": 23,
   "metadata": {},
   "outputs": [
    {
     "name": "stdout",
     "output_type": "stream",
     "text": [
      "Размер массива x_train (102, 20, 20, 1)\n",
      "Размер массива y_train (102,)\n"
     ]
    }
   ],
   "source": [
    "# Переберем все файлы с картинками крестиков и картинками ноликов в каталоге.\n",
    "# Преобразуем каждое в массив (20, 20) после открытия в режиме grayscale.\n",
    "# Сложим все в x_train, а в y_train расставим метки - крстик или нолик.\n",
    "\n",
    "\n",
    "base_dir = 'hw_pro' # Путь к директории с базой\n",
    "x_train = []\n",
    "y_train = []\n",
    "\n",
    "img_height = 20\n",
    "img_width = 20\n",
    "\n",
    "for patch in ['0', 'Х']:\n",
    "    for img in os.listdir(base_dir + '/' + patch):\n",
    "        x_train.append(image.img_to_array(image.load_img(base_dir + '/' + patch + '/' + img,\n",
    "                                                         target_size=(img_height, img_width),\n",
    "                                                         color_mode='grayscale')))\n",
    "        if patch == '0':\n",
    "            y_train.append(0)\n",
    "        else:\n",
    "            y_train.append(1)\n",
    "\n",
    "# Преобразование в numpy-массив загруженных изображений и меток классов\n",
    "x_train = np.array(x_train)\n",
    "y_train = np.array(y_train)\n",
    "\n",
    "print('Размер массива x_train', x_train.shape)\n",
    "print('Размер массива y_train', y_train.shape)"
   ]
  },
  {
   "cell_type": "code",
   "execution_count": 25,
   "metadata": {},
   "outputs": [
    {
     "data": {
      "text/plain": [
       "(102, 400)"
      ]
     },
     "execution_count": 25,
     "metadata": {},
     "output_type": "execute_result"
    }
   ],
   "source": [
    "# Все картинки (20, 20, 1) векторизуем\n",
    "\n",
    "# DK_INFO:\n",
    "# Первое измерение (это наши картинки) оставляем такоже длины\n",
    "# Остальные преобразуем в вектор. -1 означет, что reshape сам определит размер\n",
    "# Если нужно просто все в вектор превратить есть метод .reval().\n",
    "# Но сейчас он не подходит, потому что тогда все картинки \"склеятся\" вместе\n",
    "x_train2 = x_train.reshape(x_train.shape[0], -1)  \n",
    "\n",
    "# Нормируем значения цветов 0-255\n",
    "# DK_INFO: Говорят если ненормировать, то нейронка хуже обучается\n",
    "x_train2 = x_train2.astype('float32') / 255.\n",
    "\n",
    "x_train2.shape"
   ]
  },
  {
   "cell_type": "code",
   "execution_count": 31,
   "metadata": {},
   "outputs": [
    {
     "data": {
      "text/plain": [
       "(102, 2)"
      ]
     },
     "execution_count": 31,
     "metadata": {},
     "output_type": "execute_result"
    }
   ],
   "source": [
    "# One Hot Encoding\n",
    "\n",
    "# DK_INFO:\n",
    "# One Hot Encoding - преобразует вектор результирующих классов в матрицу векторов \n",
    "# с вероятностями каждого класса для каждой входной картинки\n",
    "\n",
    "CLASS_COUNT = 2\n",
    "y_train2 = utils.to_categorical(y_train, CLASS_COUNT)\n",
    "y_train2.shape"
   ]
  },
  {
   "cell_type": "code",
   "execution_count": 44,
   "metadata": {},
   "outputs": [
    {
     "name": "stdout",
     "output_type": "stream",
     "text": [
      "Model: \"sequential_7\"\n",
      "_________________________________________________________________\n",
      " Layer (type)                Output Shape              Param #   \n",
      "=================================================================\n",
      " dense_21 (Dense)            (None, 800)               320800    \n",
      "                                                                 \n",
      " dense_22 (Dense)            (None, 400)               320400    \n",
      "                                                                 \n",
      " dense_23 (Dense)            (None, 2)                 802       \n",
      "                                                                 \n",
      "=================================================================\n",
      "Total params: 642,002\n",
      "Trainable params: 642,002\n",
      "Non-trainable params: 0\n",
      "_________________________________________________________________\n"
     ]
    }
   ],
   "source": [
    "# Создаем модель\n",
    "\n",
    "# Создание последовательной модели\n",
    "model = Sequential()\n",
    "\n",
    "# Добавление полносвязного слоя на 800 нейронов с relu-активацией\n",
    "model.add(Dense(800, input_dim=400, activation='relu')) \n",
    "\n",
    "# Добавление полносвязного слоя на 400 нейронов с relu-активацией\n",
    "model.add(Dense(400, activation='relu')) \n",
    "\n",
    "# Добавление полносвязного слоя с количеством нейронов по числу классов с softmax-активацией\n",
    "model.add(Dense(CLASS_COUNT, activation='softmax')) \n",
    "\n",
    "# Компиляция модели\n",
    "model.compile(loss='categorical_crossentropy', optimizer='adam', metrics=['accuracy'])\n",
    "model.build(x_train2.shape) \n",
    "model.summary()\n",
    "\n",
    "# DK_TODO:\n",
    "# 1. Почему Sequential? Какие еще можно применить?\n",
    "# 2. Почему первый слой Dense?\n",
    "# 3. Почему в первом слое именно 800 нейронов? Не 2 или 10000?\n",
    "# 4. Зачем задавать явно input_dim=400 (по длине вектора обучения)? \n",
    "# 5. Почему без этого параметра обучается хуже?\n",
    "# 6. Почему функция активации именно relu? Какие еще применимы здесь и вообще бывают?\n",
    "# 7. Почему второй слой тоже Dense?\n",
    "# 8. Как выбирать количество нейронов в нем?\n",
    "# 9. Почему слоев всего 2, а не 10?\n",
    "# 10. Почему в результируещем слое активация softmax?\n",
    "# 11. Почему функция loss='categorical_crossentropy'?\n",
    "# 12. Почему оптимизатор именно adam? Какие еще применимы здесь и в принципе?\n",
    "# 13. Почему в metrics только accuracy? Другием не нужны?\n"
   ]
  },
  {
   "cell_type": "code",
   "execution_count": 45,
   "metadata": {},
   "outputs": [
    {
     "name": "stdout",
     "output_type": "stream",
     "text": [
      "Epoch 1/20\n",
      "4/4 [==============================] - 0s 2ms/step - loss: 1.0113 - accuracy: 0.6863\n",
      "Epoch 2/20\n",
      "4/4 [==============================] - 0s 2ms/step - loss: 0.7044 - accuracy: 0.6373\n",
      "Epoch 3/20\n",
      "4/4 [==============================] - 0s 2ms/step - loss: 0.3851 - accuracy: 0.7549\n",
      "Epoch 4/20\n",
      "4/4 [==============================] - 0s 2ms/step - loss: 0.3185 - accuracy: 0.8235\n",
      "Epoch 5/20\n",
      "4/4 [==============================] - 0s 2ms/step - loss: 0.2838 - accuracy: 0.8824\n",
      "Epoch 6/20\n",
      "4/4 [==============================] - 0s 2ms/step - loss: 0.2963 - accuracy: 0.8529\n",
      "Epoch 7/20\n",
      "4/4 [==============================] - 0s 2ms/step - loss: 0.2377 - accuracy: 0.9118\n",
      "Epoch 8/20\n",
      "4/4 [==============================] - 0s 2ms/step - loss: 0.2438 - accuracy: 0.8922\n",
      "Epoch 9/20\n",
      "4/4 [==============================] - 0s 2ms/step - loss: 0.3092 - accuracy: 0.8333\n",
      "Epoch 10/20\n",
      "4/4 [==============================] - 0s 2ms/step - loss: 0.3369 - accuracy: 0.7843\n",
      "Epoch 11/20\n",
      "4/4 [==============================] - 0s 2ms/step - loss: 0.1256 - accuracy: 0.9608\n",
      "Epoch 12/20\n",
      "4/4 [==============================] - 0s 3ms/step - loss: 0.0946 - accuracy: 0.9706\n",
      "Epoch 13/20\n",
      "4/4 [==============================] - 0s 2ms/step - loss: 0.1259 - accuracy: 0.9608\n",
      "Epoch 14/20\n",
      "4/4 [==============================] - 0s 3ms/step - loss: 0.0513 - accuracy: 1.0000\n",
      "Epoch 15/20\n",
      "4/4 [==============================] - 0s 3ms/step - loss: 0.0316 - accuracy: 1.0000\n",
      "Epoch 16/20\n",
      "4/4 [==============================] - 0s 2ms/step - loss: 0.0283 - accuracy: 1.0000\n",
      "Epoch 17/20\n",
      "4/4 [==============================] - 0s 2ms/step - loss: 0.0214 - accuracy: 1.0000\n",
      "Epoch 18/20\n",
      "4/4 [==============================] - 0s 2ms/step - loss: 0.0180 - accuracy: 1.0000\n",
      "Epoch 19/20\n",
      "4/4 [==============================] - 0s 2ms/step - loss: 0.0120 - accuracy: 1.0000\n",
      "Epoch 20/20\n",
      "4/4 [==============================] - 0s 2ms/step - loss: 0.0113 - accuracy: 1.0000\n"
     ]
    },
    {
     "data": {
      "text/plain": [
       "<keras.callbacks.History at 0x17951ec40>"
      ]
     },
     "execution_count": 45,
     "metadata": {},
     "output_type": "execute_result"
    }
   ],
   "source": [
    "# Обучение\n",
    "model.fit(x_train2, y_train2, epochs=20, verbose=1)\n",
    "\n",
    "# DK_TODO:\n",
    "# 1. Почему 15 эпох?\n",
    "# 2. Почему verbose=1?"
   ]
  }
 ],
 "metadata": {
  "kernelspec": {
   "display_name": "Python 3.9.13 ('venv': venv)",
   "language": "python",
   "name": "python3"
  },
  "language_info": {
   "codemirror_mode": {
    "name": "ipython",
    "version": 3
   },
   "file_extension": ".py",
   "mimetype": "text/x-python",
   "name": "python",
   "nbconvert_exporter": "python",
   "pygments_lexer": "ipython3",
   "version": "3.9.13"
  },
  "orig_nbformat": 4,
  "vscode": {
   "interpreter": {
    "hash": "03cbc504413c02b6721d02632c551db0ff2379cfb8e924045fa829ac48b9ae96"
   }
  }
 },
 "nbformat": 4,
 "nbformat_minor": 2
}
